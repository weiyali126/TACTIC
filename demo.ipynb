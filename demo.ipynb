{
 "cells": [
  {
   "cell_type": "markdown",
   "metadata": {},
   "source": [
    "## Call tactic server with stream"
   ]
  },
  {
   "cell_type": "code",
   "execution_count": 7,
   "metadata": {},
   "outputs": [
    {
     "name": "stdout",
     "output_type": "stream",
     "text": [
      "--- DraftAgent ---\n",
      "Hello!\n",
      "\n",
      "--- RefinementAgent ---\n",
      "[Analysis]: The candidate translation 'Hello!' is a direct and accurate translation of the source text 'Hello!'. It fully captures the original meaning and tone of the greeting in Chinese.\n",
      "[Final Translation]:\n",
      "Hello!\n",
      "\n",
      "[Stream completed]\n"
     ]
    }
   ],
   "source": [
    "import requests\n",
    "import json\n",
    "\n",
    "event_dict = {\n",
    "    'DraftAgent': '--- DraftAgent ---\\n',\n",
    "    'RefinementAgent_Analysis': '\\n\\n--- RefinementAgent ---\\n[Analysis]: ',\n",
    "    'RefinementAgent_Translation': '\\n[Translation]: ',\n",
    "    'Final_Translation': '\\n[Final Translation]:\\n'\n",
    "}\n",
    "\n",
    "def request_server_stream(content):\n",
    "    url = \"http://127.0.0.1:20063/v1/chat/completions\"\n",
    "    headers = {\"Content-Type\": \"application/json\"}\n",
    "\n",
    "    data = {\n",
    "        \"model\": \"deepseek-chat\",\n",
    "        \"messages\": [\n",
    "            {\n",
    "                \"role\": \"system\", \n",
    "                \"content\": \"You are a helpful assistant.\"\n",
    "            },\n",
    "            {\n",
    "                \"role\": \"user\", \n",
    "                \"content\": content\n",
    "            }\n",
    "        ],\n",
    "        \"temperature\": 0.6,\n",
    "        \"max_tokens\": 2048,\n",
    "        \"stream\": True  \n",
    "    }\n",
    "\n",
    "    last_type = None  # Track the previous type to avoid repeatedly printing the prefix\n",
    "\n",
    "    with requests.post(url, headers=headers, data=json.dumps(data), stream=True, timeout=(5, 300)) as response:\n",
    "        if response.status_code != 200:\n",
    "            print(f\"Error: {response.status_code}\")\n",
    "            print(response.text)\n",
    "            return\n",
    "\n",
    "        for line in response.iter_lines(decode_unicode=True):\n",
    "            if line:\n",
    "                if line.strip() == \"data: [DONE]\":\n",
    "                    print(\"\\n\\n[Stream completed]\")\n",
    "                    break\n",
    "                if line.startswith(\"data: \"):\n",
    "                    try:\n",
    "                        payload = json.loads(line[6:])\n",
    "                        event_type = payload.get(\"type\")\n",
    "                        delta = payload[\"choices\"][0][\"delta\"]\n",
    "                        content = delta.get(\"content\", \"\")\n",
    "\n",
    "                        # Determine the type. Only type changes or the prefix is output every time\n",
    "                        if event_type in event_dict:\n",
    "                            # If the type changes or is output for the first time\n",
    "                            if last_type != event_type:\n",
    "                                print(event_dict[event_type], end='', flush=True)\n",
    "                                last_type = event_type\n",
    "                        # Output content\n",
    "                        print(content, end='', flush=True)\n",
    "                    except Exception as e:\n",
    "                        print(f\"\\n[Parse error]: {e}\")\n",
    "                        print(line)\n",
    "\n",
    "\n",
    "content = \"zh-en:\\nHello!\"\n",
    "\n",
    "request_server_stream(content)"
   ]
  }
 ],
 "metadata": {
  "kernelspec": {
   "display_name": "base",
   "language": "python",
   "name": "base"
  },
  "language_info": {
   "codemirror_mode": {
    "name": "ipython",
    "version": 3
   },
   "file_extension": ".py",
   "mimetype": "text/x-python",
   "name": "python",
   "nbconvert_exporter": "python",
   "pygments_lexer": "ipython3",
   "version": "3.12.10"
  }
 },
 "nbformat": 4,
 "nbformat_minor": 4
}
